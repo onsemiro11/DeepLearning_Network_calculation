{
 "cells": [
  {
   "cell_type": "markdown",
   "id": "c85aaf67-67f0-4ee1-811b-d796d7303a14",
   "metadata": {},
   "source": [
    "# Affine Function"
   ]
  },
  {
   "cell_type": "markdown",
   "id": "a73c65d0",
   "metadata": {},
   "source": [
    "## 1-1 Affine Function with 1 Feature"
   ]
  },
  {
   "cell_type": "markdown",
   "id": "955d2b86",
   "metadata": {},
   "source": [
    "### code.1-1-1 : Affine Function"
   ]
  },
  {
   "cell_type": "code",
   "execution_count": 4,
   "id": "a368f9d3",
   "metadata": {},
   "outputs": [
    {
     "name": "stdout",
     "output_type": "stream",
     "text": [
      "tf.Tensor([[10.]], shape=(1, 1), dtype=float32)\n"
     ]
    }
   ],
   "source": [
    "import tensorflow as tf\n",
    "\n",
    "from tensorflow.keras.layers import Dense\n",
    "\n",
    "x = tf.constant([[10.]]) #input setting !! input은 matrix형태로 넣어줘야한다.\n",
    "print(x)"
   ]
  },
  {
   "cell_type": "code",
   "execution_count": 10,
   "id": "c57dc0e7",
   "metadata": {},
   "outputs": [
    {
     "name": "stdout",
     "output_type": "stream",
     "text": [
      "===== Input/Weight/Bias=====\n",
      "x:(1, 1)\n",
      "[[10.]]\n",
      "\n",
      "W:(1, 1)\n",
      "[[1.0235344]]\n",
      "\n",
      "B:(1,)\n",
      "[0.]\n",
      "\n",
      "===== Outputs =====\n",
      "y(Tensorflow): (1, 1)\n",
      "[[10.235344]]\n",
      "\n",
      "y(Manual): (1, 1)\n",
      "[[10.235344]]\n",
      "\n"
     ]
    }
   ],
   "source": [
    "dense = Dense(units = 1, activation = \"linear\") #imp. unit이 하나인 an affine function 즉, z = x*w +b 를 만들어준다.\n",
    "\n",
    "y_tf = dense(x) # 연산 진행 Z = x * W + B 형태\n",
    "\n",
    "W, B = dense.get_weights() #만약 dense연산을 실행하기 전 즉, y_tf 객체를 구성하기 전에 W,B를 뽑으려 하면, 아직 할당되지 않아 오류가 나온다.\n",
    "\n",
    "y_man = tf.linalg.matmul(x,W) + B #forward propagation(manual)\n",
    "\n",
    "#y_tf인 tensorflow에 있는 dense연산으로 진행한 것이 실제로 연산이 잘 작동되는지 확인하기 위해 y_man 객체를 만들어 직접연산을 해봤다.\n",
    "# matmul()는 matrix multify. 즉, matrix형태를 곱하는 것\n",
    "\n",
    "#print results\n",
    "print(\"===== Input/Weight/Bias=====\")\n",
    "print(\"x:{}\\n{}\\n\".format(x.shape,x.numpy()))\n",
    "print(\"W:{}\\n{}\\n\".format(W.shape,W))\n",
    "print(\"B:{}\\n{}\\n\".format(B.shape,B))\n",
    "\n",
    "print(\"===== Outputs =====\")\n",
    "print(\"y(Tensorflow): {}\\n{}\\n\".format(y_tf.shape,y_tf.numpy()))\n",
    "print(\"y(Manual): {}\\n{}\\n\".format(y_man.shape,y_man.numpy()))\n",
    "# tensorflow에 dense연산이 직접 연산해본 manual과 동일한 결과를 보여줌을 알 수 있다."
   ]
  },
  {
   "cell_type": "markdown",
   "id": "524f3f6f",
   "metadata": {},
   "source": [
    "### code.1-1-1 : Params Initialization"
   ]
  },
  {
   "cell_type": "code",
   "execution_count": 17,
   "id": "d605f258",
   "metadata": {},
   "outputs": [
    {
     "name": "stdout",
     "output_type": "stream",
     "text": [
      "tf.Tensor([[120.]], shape=(1, 1), dtype=float32)\n",
      "W :(1, 1)\n",
      "[[10.]]\n",
      "\n",
      "B :(1,)\n",
      "[20.]\n",
      "\n"
     ]
    }
   ],
   "source": [
    "import tensorflow as tf\n",
    "from tensorflow.keras.layers import Dense\n",
    "from tensorflow.keras.initializers import Constant #내가 원하는 값으로 initialize 해준다.\n",
    "\n",
    "x = tf.constant([[10.]]) #input setting !! input은 matrix형태로 넣어줘야한다.\n",
    "\n",
    "#weight/bias setting\n",
    "w, b = tf.constant(10.), tf.constant(20.) #tensorflow는 기본적으로 floating point 32byte를 사용하기때문에 숫자뒤에 .을 붙이는 습관을 들이자.\n",
    "w_init, b_init = Constant(w), Constant(b) #keras.initialize.Constant()를 import를 활용해 Constant만 작성.\n",
    "\n",
    "# imp. an affine function\n",
    "dense = Dense(units = 1,\n",
    "             activation='linear', #activation function은 linear로 일단 설정해보자.\n",
    "             kernel_initializer = w_init,\n",
    "             bias_initializer=b_init)\n",
    "y_tf =dense(x)\n",
    "print(y_tf) # x = 10., w = 10. b = 20. 으로 10 X 10 +20ㅇ\n",
    "W,B = dense.get_weights()\n",
    "\n",
    "#print results\n",
    "print(\"W :{}\\n{}\\n\".format(W.shape,W))\n",
    "print(\"B :{}\\n{}\\n\".format(B.shape,B))\n",
    "\n",
    "#parmas Initialization은 내가 가고자하는 방향으로 이 모델이 잘 작동하는지 내가 임의로 W,B를 정하여 진행과정을 확인해보고 싶을 때 사용한다."
   ]
  },
  {
   "cell_type": "markdown",
   "id": "637496b5",
   "metadata": {},
   "source": [
    "## 1-2:Affine Functions with n Features"
   ]
  },
  {
   "cell_type": "markdown",
   "id": "787e3395",
   "metadata": {},
   "source": [
    "### code.1-2-1:Affine Functions with n Features"
   ]
  },
  {
   "cell_type": "code",
   "execution_count": 19,
   "id": "9ad70e87",
   "metadata": {},
   "outputs": [
    {
     "name": "stdout",
     "output_type": "stream",
     "text": [
      "===== Input/Weight/Bias=====\n",
      "x:(1, 10)\n",
      "[[7.954689   0.30616045 0.4393041  9.93988    8.966143   4.121319\n",
      "  0.97882986 0.835197   8.333364   7.9065084 ]]\n",
      "\n",
      "W:(10, 1)\n",
      "[[ 0.43643647]\n",
      " [-0.69332606]\n",
      " [-0.67365944]\n",
      " [ 0.7296687 ]\n",
      " [ 0.58583814]\n",
      " [-0.12978977]\n",
      " [-0.5939662 ]\n",
      " [-0.61518216]\n",
      " [ 0.49237043]\n",
      " [ 0.4293198 ]]\n",
      "\n",
      "B:(1,)\n",
      "[0.]\n",
      "\n",
      "===== Outputs =====\n",
      "y(Tensorflow): (1, 1)\n",
      "[[21.336462]]\n",
      "\n",
      "y(Manual): (1, 1)\n",
      "[[21.336462]]\n",
      "\n"
     ]
    }
   ],
   "source": [
    "import tensorflow as tf\n",
    "from tensorflow.keras.layers import Dense\n",
    "\n",
    "x = tf.random.uniform(shape =(1,10),minval=0,maxval=10)\n",
    "\n",
    "dense = Dense(units=1)\n",
    "\n",
    "y_tf = dense(x) #Dense에서 w,b가 몇개 필요한지 말하지 않아도 dense를 통과하면 자기 스스로 w와 b가 몇개 필요한지 확인해서 초기화 시킨다.\n",
    "\n",
    "W,B = dense.get_weights() #그 초기화 시켜서 할당한 W와 B를 꺼내서\n",
    "\n",
    "y_man = tf.linalg.matmul(x,W)+B #matmul를 활용해 직접 계산한다.\n",
    "\n",
    "#print results\n",
    "print(\"===== Input/Weight/Bias=====\")\n",
    "print(\"x:{}\\n{}\\n\".format(x.shape,x.numpy()))\n",
    "print(\"W:{}\\n{}\\n\".format(W.shape,W))\n",
    "print(\"B:{}\\n{}\\n\".format(B.shape,B))\n",
    "\n",
    "print(\"===== Outputs =====\")\n",
    "print(\"y(Tensorflow): {}\\n{}\\n\".format(y_tf.shape,y_tf.numpy()))\n",
    "print(\"y(Manual): {}\\n{}\\n\".format(y_man.shape,y_man.numpy()))\n",
    "#그결과, 동일한 dense값과 manual값임을 알 수 있다."
   ]
  },
  {
   "cell_type": "code",
   "execution_count": null,
   "id": "d7edba05",
   "metadata": {},
   "outputs": [],
   "source": []
  }
 ],
 "metadata": {
  "kernelspec": {
   "display_name": "Python 3.9 (tensorflow)",
   "language": "python",
   "name": "tensorflow"
  },
  "language_info": {
   "codemirror_mode": {
    "name": "ipython",
    "version": 3
   },
   "file_extension": ".py",
   "mimetype": "text/x-python",
   "name": "python",
   "nbconvert_exporter": "python",
   "pygments_lexer": "ipython3",
   "version": "3.9.9"
  }
 },
 "nbformat": 4,
 "nbformat_minor": 5
}
