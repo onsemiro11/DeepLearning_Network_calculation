{
 "cells": [
  {
   "cell_type": "markdown",
   "id": "2d19fd4d",
   "metadata": {},
   "source": [
    "# 3-4: Softmax Layers"
   ]
  },
  {
   "cell_type": "markdown",
   "id": "e9998d97",
   "metadata": {},
   "source": [
    "## Code.3-4-1: IO of Softmax"
   ]
  },
  {
   "cell_type": "code",
   "execution_count": 9,
   "id": "e2743f9c",
   "metadata": {},
   "outputs": [
    {
     "name": "stdout",
     "output_type": "stream",
     "text": [
      "tf.Tensor([[4.2436343e-02 7.4803221e-01 6.7954011e-02 2.0188669e-07 1.4157726e-01]], shape=(1, 5), dtype=float32)\n",
      "Logits : [[ 5.8201838  8.689625   6.29101   -6.4356256  7.0250244]]\n",
      "Probabilities : [[4.2436343e-02 7.4803221e-01 6.7954011e-02 2.0188669e-07 1.4157726e-01]]\n",
      "Sum of softmax values : tf.Tensor([1.], shape=(1,), dtype=float32)\n"
     ]
    }
   ],
   "source": [
    "import tensorflow as tf\n",
    "\n",
    "from tensorflow.keras.layers import Activation\n",
    "\n",
    "logit = tf.random.uniform(shape = (1,5),minval=-10, maxval=10)\n",
    "\n",
    "softmax_value = Activation('softmax')(logit)\n",
    "print(softmax_value)\n",
    "softmax_sum = tf.reduce_sum(softmax_value,axis=1) #축은 오른쪽 방향으로 향하며 더한다.\n",
    " \n",
    "print(\"Logits :\",logit.numpy())\n",
    "print(\"Probabilities :\",softmax_value.numpy())\n",
    "print(\"Sum of softmax values :\",softmax_sum) #probabilities를 다 더하면, 1이 나올 것이다."
   ]
  },
  {
   "cell_type": "markdown",
   "id": "f535859a",
   "metadata": {},
   "source": [
    "## Code.3-4-2: Softmax in Dense Layers"
   ]
  },
  {
   "cell_type": "code",
   "execution_count": 2,
   "id": "0a71be8e",
   "metadata": {},
   "outputs": [
    {
     "name": "stdout",
     "output_type": "stream",
     "text": [
      "tf.Tensor(\n",
      "[[ 0.6345415   6.9142685  -4.9067974   4.0511084   6.610758  ]\n",
      " [-8.227239   -3.092916   -5.404613   -1.6112404   2.0145702 ]\n",
      " [-0.23950768 -3.983605    4.3695593   8.127605    4.0134983 ]\n",
      " [ 2.9718542   3.8331556  -0.17416191 -2.990477    3.9756374 ]\n",
      " [-3.0675387   0.32607555 -5.638299   -8.941689   -5.4401207 ]\n",
      " [-6.030264    9.6707535   3.6138897  -1.4670372   7.356718  ]\n",
      " [-7.345109    3.2823992   7.9516582  -1.2184887  -1.1138039 ]\n",
      " [ 9.794245    1.3192654   9.879135   -3.4744143   9.652384  ]], shape=(8, 5), dtype=float32)\n",
      "tf.Tensor(\n",
      "[[3.5321973e-05 1.3374809e-05 5.6229118e-04 3.5399295e-04 1.1489857e-03\n",
      "  6.0549760e-01 3.4722216e-05 3.9235377e-01]\n",
      " [1.5509571e-03 2.8666967e-05 1.7435512e-02 1.7144867e-04 5.1456656e-05\n",
      "  3.2995604e-02 3.1904321e-02 9.1586208e-01]\n",
      " [1.8006853e-03 1.0986595e-05 6.3644335e-02 8.2765549e-01 6.1372608e-05\n",
      "  1.0428258e-01 3.8882271e-07 2.5441963e-03]\n",
      " [2.3789781e-01 2.1581878e-01 4.8313334e-04 6.6712245e-02 3.0460301e-01\n",
      "  6.5432824e-02 3.6489639e-02 7.2562672e-02]\n",
      " [4.9539471e-05 2.8555656e-03 6.5065246e-06 4.5167514e-08 2.3765453e-04\n",
      "  3.0808800e-07 9.9678177e-01 6.8648544e-05]\n",
      " [1.4232782e-04 4.7684540e-07 1.5179135e-06 7.7937675e-06 2.8128036e-06\n",
      "  9.9837273e-01 1.0323836e-05 1.4620022e-03]\n",
      " [2.8816791e-02 6.7966979e-04 8.8541638e-03 1.3704145e-03 1.5844562e-04\n",
      "  9.4860417e-01 1.0815458e-02 7.0095691e-04]\n",
      " [2.2550085e-01 3.8891288e-03 4.8475459e-09 7.6957268e-01 1.0125064e-03\n",
      "  2.4337060e-05 4.7367731e-08 4.4975650e-07]], shape=(8, 8), dtype=float32)\n",
      "tf.Tensor(\n",
      "[1.        1.        1.0000001 1.0000001 1.        1.        1.0000001\n",
      " 1.       ], shape=(8,), dtype=float32)\n"
     ]
    }
   ],
   "source": [
    "import tensorflow as tf\n",
    "\n",
    "from tensorflow.keras.layers import Dense\n",
    "from tensorflow.keras.layers import Activation\n",
    "\n",
    "logit = tf.random.uniform(shape = (8,5),minval=-10, maxval=10)\n",
    "dense = Dense(units = 8, activation = \"softmax\")\n",
    "print(logit)\n",
    "Y = dense(logit)\n",
    "print(Y)\n",
    "print(tf.reduce_sum(Y, axis = 1)) \n",
    "#8개의 값들이 전부다 1이 나온걸 알 수 있다. "
   ]
  },
  {
   "cell_type": "markdown",
   "id": "415127c6",
   "metadata": {},
   "source": [
    "# 3-5: Multi-class Classifiers"
   ]
  },
  {
   "cell_type": "markdown",
   "id": "76563c7b",
   "metadata": {},
   "source": [
    "Code.3-5-1: Multi-class Classifiers"
   ]
  },
  {
   "cell_type": "code",
   "execution_count": 20,
   "id": "1977d8e5",
   "metadata": {},
   "outputs": [
    {
     "name": "stdout",
     "output_type": "stream",
     "text": [
      "X :(8, 5)\n",
      "[[ 5.8201838   8.689625    6.29101    -6.4356256   7.0250244 ]\n",
      " [-3.067627   -4.575901   -5.185468    0.1555109  -3.6201859 ]\n",
      " [ 9.738228   -5.2151036   6.5975685  -7.008815    1.0058231 ]\n",
      " [-6.6605783   4.8422165   2.3565435  -1.8858051   6.9234505 ]\n",
      " [ 0.21056938  6.214506   -4.6397734   1.3649158  -1.6912384 ]\n",
      " [ 7.6004753   2.776003    3.707407    8.090155    4.5494843 ]\n",
      " [-2.4836159  -1.5401287   2.9075813  -3.5951638  -2.6777983 ]\n",
      " [-7.4796534   5.244734   -0.34971428 -6.8714285   8.38879   ]]\n",
      "\n",
      "A1 :(8, 8)\n",
      "[[ 6.5897384   0.          4.9387116   0.          5.728498    0.\n",
      "   0.          0.        ]\n",
      " [ 0.          0.          0.          2.4021602   0.          0.76295394\n",
      "   3.9392114   0.5909818 ]\n",
      " [ 6.969769    4.223093    0.          0.          0.          1.0489982\n",
      "   0.          0.8475483 ]\n",
      " [ 0.          0.          0.          0.          0.4556886   0.\n",
      "   0.          4.516868  ]\n",
      " [ 0.          0.          5.3609123   0.          2.967144    0.\n",
      "   2.380903    0.        ]\n",
      " [ 4.223317    7.4638686   5.3080425   0.         10.99218     1.0518494\n",
      "   0.          0.        ]\n",
      " [ 0.          0.          0.          3.4543273   0.          1.4309348\n",
      "   1.6070049   0.69152606]\n",
      " [ 0.          0.          0.          0.          0.          0.\n",
      "   0.03716399  5.7290893 ]]\n",
      "\n",
      "A2 :(8, 5)\n",
      "[[5.954919   4.5589724  3.224318   0.         2.8242807 ]\n",
      " [0.         0.73251915 1.3408163  0.         0.985862  ]\n",
      " [1.9867371  3.3015442  1.735158   0.         3.0949697 ]\n",
      " [0.         1.8017914  0.         0.         2.5218337 ]\n",
      " [3.1874049  0.         1.9378774  0.         0.        ]\n",
      " [4.3264904  3.131473   0.         0.         0.        ]\n",
      " [0.         1.4844667  1.2144346  0.         2.1687894 ]\n",
      " [0.         2.0374405  0.         0.         3.2582822 ]]\n",
      "\n",
      "Y :(8, 3)\n",
      "[[0.03066766 0.8282625  0.14106981]\n",
      " [0.3316225  0.22711232 0.44126523]\n",
      " [0.24264884 0.44384277 0.3135084 ]\n",
      " [0.5215983  0.21826233 0.2601394 ]\n",
      " [0.181401   0.36157966 0.45701933]\n",
      " [0.00856389 0.9659701  0.02546604]\n",
      " [0.43512216 0.17882568 0.3860522 ]\n",
      " [0.6229705  0.14405702 0.2329725 ]]\n",
      "\n",
      "Sum of vectors: [1. 1. 1. 1. 1. 1. 1. 1.]\n",
      "\n"
     ]
    }
   ],
   "source": [
    "import tensorflow as tf\n",
    "\n",
    "from tensorflow.keras.models import Model\n",
    "from tensorflow.keras.layers import Dense\n",
    "\n",
    "class TestModel(Model):\n",
    "    def __init__(self):\n",
    "        super(TestModel,self).__init__()\n",
    "        \n",
    "        self.dense1 = Dense(units=8,activation=\"relu\")\n",
    "        self.dense2 = Dense(units=5,activation=\"relu\")\n",
    "        self.dense3 = Dense(units=3,activation=\"softmax\")\n",
    "    \n",
    "    def call(self,X):\n",
    "        print(\"X :{}\\n{}\\n\".format(X.shape,X.numpy()))\n",
    "        \n",
    "        X= self.dense1(X)\n",
    "        print(\"A1 :{}\\n{}\\n\".format(X.shape,X.numpy()))\n",
    "        \n",
    "        X= self.dense2(X)\n",
    "        print(\"A2 :{}\\n{}\\n\".format(X.shape,X.numpy()))\n",
    "        \n",
    "        X= self.dense3(X)\n",
    "        print(\"Y :{}\\n{}\\n\".format(X.shape,X.numpy()))\n",
    "        print(\"Sum of vectors: {}\\n\".format(tf.reduce_sum(X,axis = 1)))\n",
    "        \n",
    "        \n",
    "model = TestModel()\n",
    "\n",
    "X = tf.random.uniform(shape = (8,5),minval=-10,maxval=10)\n",
    "Y = model(X)"
   ]
  },
  {
   "cell_type": "code",
   "execution_count": null,
   "id": "751c087a",
   "metadata": {},
   "outputs": [],
   "source": []
  }
 ],
 "metadata": {
  "kernelspec": {
   "display_name": "Python 3.9 (tensorflow)",
   "language": "python",
   "name": "tensorflow"
  },
  "language_info": {
   "codemirror_mode": {
    "name": "ipython",
    "version": 3
   },
   "file_extension": ".py",
   "mimetype": "text/x-python",
   "name": "python",
   "nbconvert_exporter": "python",
   "pygments_lexer": "ipython3",
   "version": "3.9.9"
  }
 },
 "nbformat": 4,
 "nbformat_minor": 5
}
